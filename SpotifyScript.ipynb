{
 "cells": [
  {
   "cell_type": "code",
   "execution_count": 1,
   "metadata": {},
   "outputs": [
    {
     "name": "stdout",
     "output_type": "stream",
     "text": [
      "Updated dataset with album cover URLs saved to spotify_data_with_covers.csv\n"
     ]
    }
   ],
   "source": [
    "\n",
    "import pandas as pd\n",
    "from spotipy.oauth2 import SpotifyClientCredentials\n",
    "import spotipy\n",
    "import time\n",
    "\n",
    "# Spotify API credentials\n",
    "CLIENT_ID = ' ' # Replace with your Spotify Client ID\n",
    "CLIENT_SECRET = ' '  # Replace with your Spotify Client Secret\n",
    "\n",
    "# Authenticate with Spotify\n",
    "client_credentials_manager = SpotifyClientCredentials(client_id=CLIENT_ID, client_secret=CLIENT_SECRET)\n",
    "sp = spotipy.Spotify(client_credentials_manager=client_credentials_manager)\n",
    "\n",
    "def get_album_cover_url(track_name, artist_name):\n",
    "    try:\n",
    "        # Search for the track using track name and artist\n",
    "        results = sp.search(q=f'track:{track_name} artist:{artist_name}', type='track', limit=1)\n",
    "        if results['tracks']['items']:\n",
    "            # Get album cover URL\n",
    "            album_cover_url = results['tracks']['items'][0]['album']['images'][0]['url']\n",
    "            return album_cover_url\n",
    "        else:\n",
    "            return None\n",
    "    except Exception as e:\n",
    "        print(f\"Error fetching data for {track_name}: {e}\")\n",
    "        return None\n",
    "\n",
    "# Load your dataset\n",
    "file_path = 'spotify-2023.csv'  # Replace with your CSV file path\n",
    "spotify_data = pd.read_csv(file_path, encoding='ISO-8859-1')\n",
    "\n",
    "# Add a new column for the cover URLs\n",
    "spotify_data['album_cover_url'] = spotify_data.apply(\n",
    "    lambda row: get_album_cover_url(row['track_name'], row['artist(s)_name']), axis=1)\n",
    "\n",
    "# Save the updated data to a new CSV file\n",
    "output_file_path = 'spotify_data_with_covers.csv'\n",
    "spotify_data.to_csv(output_file_path, index=False)\n",
    "\n",
    "print(f\"Updated dataset with album cover URLs saved to {output_file_path}\")\n",
    "\n",
    "time.sleep(1)"
   ]
  },
  {
   "cell_type": "code",
   "execution_count": null,
   "metadata": {},
   "outputs": [],
   "source": []
  }
 ],
 "metadata": {
  "kernelspec": {
   "display_name": "Python 3",
   "language": "python",
   "name": "python3"
  },
  "language_info": {
   "codemirror_mode": {
    "name": "ipython",
    "version": 3
   },
   "file_extension": ".py",
   "mimetype": "text/x-python",
   "name": "python",
   "nbconvert_exporter": "python",
   "pygments_lexer": "ipython3",
   "version": "3.12.0"
  }
 },
 "nbformat": 4,
 "nbformat_minor": 2
}
